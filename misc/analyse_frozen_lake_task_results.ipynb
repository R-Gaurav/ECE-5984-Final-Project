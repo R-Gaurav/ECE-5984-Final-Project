{
 "cells": [
  {
   "cell_type": "code",
   "execution_count": 1,
   "id": "7f10137b",
   "metadata": {},
   "outputs": [
    {
     "name": "stderr",
     "output_type": "stream",
     "text": [
      "2022-05-06 22:55:43.057871: E tensorflow/stream_executor/cuda/cuda_driver.cc:271] failed call to cuInit: CUDA_ERROR_NO_DEVICE: no CUDA-capable device is detected\n",
      "2022-05-06 22:55:43.058091: I tensorflow/stream_executor/cuda/cuda_diagnostics.cc:156] kernel driver does not appear to be running on this host (gra287): /proc/driver/nvidia/version does not exist\n"
     ]
    }
   ],
   "source": [
    "import _init_paths\n",
    "import numpy as np\n",
    "import nengo\n",
    "import consts.dir_consts as drc\n",
    "from src.frozen_lake.train_actor_critic import get_network\n",
    "from utils.frozen_lake_utils import FrozenLakeUtils\n",
    "\n",
    "import matplotlib.pyplot as plt\n",
    "import pickle\n",
    "\n",
    "RES_DIR = drc.RESULTS_DIR+\"/frozen_lake_task/\""
   ]
  },
  {
   "cell_type": "markdown",
   "id": "d5ffb473",
   "metadata": {},
   "source": [
    "# Run the Agent"
   ]
  },
  {
   "cell_type": "code",
   "execution_count": 2,
   "id": "9bab5ef0",
   "metadata": {},
   "outputs": [
    {
     "data": {
      "application/vdom.v1+json": {
       "attributes": {},
       "tagName": "div"
      },
      "text/html": [
       "\n",
       "                <script>\n",
       "                    if (Jupyter.version.split(\".\")[0] < 5) {\n",
       "                        var pb = document.getElementById(\"45f88740-c257-427b-955a-20a1bf41972d\");\n",
       "                        var text = document.createTextNode(\n",
       "                            \"HMTL progress bar requires Jupyter Notebook >= \" +\n",
       "                            \"5.0 or Jupyter Lab. Alternatively, you can use \" +\n",
       "                            \"TerminalProgressBar().\");\n",
       "                        pb.parentNode.insertBefore(text, pb);\n",
       "                    }\n",
       "                </script>\n",
       "                <div id=\"45f88740-c257-427b-955a-20a1bf41972d\" style=\"\n",
       "                    width: 100%;\n",
       "                    border: 1px solid #cfcfcf;\n",
       "                    border-radius: 4px;\n",
       "                    text-align: center;\n",
       "                    position: relative;\">\n",
       "                  <div class=\"pb-text\" style=\"\n",
       "                      position: absolute;\n",
       "                      width: 100%;\">\n",
       "                    0%\n",
       "                  </div>\n",
       "                  <div class=\"pb-fill\" style=\"\n",
       "                      background-color: #bdd2e6;\n",
       "                      width: 0%;\">\n",
       "                    <style type=\"text/css\" scoped=\"scoped\">\n",
       "                        @keyframes pb-fill-anim {\n",
       "                            0% { background-position: 0 0; }\n",
       "                            100% { background-position: 100px 0; }\n",
       "                        }\n",
       "                    </style>\n",
       "                    &nbsp;\n",
       "                  </div>\n",
       "                </div>"
      ],
      "text/plain": [
       "HtmlProgressBar cannot be displayed. Please use the TerminalProgressBar. It can be enabled with `nengo.rc['progress']['progress_bar'] = 'nengo.utils.progress.TerminalProgressBar'`."
      ]
     },
     "metadata": {},
     "output_type": "display_data"
    },
    {
     "data": {
      "application/vdom.v1+json": {
       "attributes": {
        "id": "72f7c140-e753-4eb8-b268-1ff126d98aab",
        "style": {
         "border": "1px solid #cfcfcf",
         "borderRadius": "4px",
         "boxSizing": "border-box",
         "position": "relative",
         "textAlign": "center",
         "width": "100%"
        }
       },
       "children": [
        {
         "attributes": {
          "class": "pb-text",
          "style": {
           "position": "absolute",
           "width": "100%"
          }
         },
         "children": [
          "Build finished in 0:00:01."
         ],
         "tagName": "div"
        },
        {
         "attributes": {
          "class": "pb-fill",
          "style": {
           "animation": "none",
           "backgroundColor": "#bdd2e6",
           "backgroundImage": "none",
           "backgroundSize": "100px 100%",
           "width": "100%"
          }
         },
         "children": [
          {
           "attributes": {
            "scoped": "scoped",
            "type": "text/css"
           },
           "children": [
            "\n                        @keyframes pb-fill-anim {\n                            0% { background-position: 0 0; }\n                            100% { background-position: 100px 0; }\n                        }}"
           ],
           "tagName": "style"
          },
          " "
         ],
         "tagName": "div"
        }
       ],
       "tagName": "div"
      },
      "text/html": [
       "<script>\n",
       "              (function () {\n",
       "                  var root = document.getElementById('45f88740-c257-427b-955a-20a1bf41972d');\n",
       "                  var text = root.getElementsByClassName('pb-text')[0];\n",
       "                  var fill = root.getElementsByClassName('pb-fill')[0];\n",
       "\n",
       "                  text.innerHTML = 'Build finished in 0:00:01.';\n",
       "                  \n",
       "            fill.style.width = '100%';\n",
       "            fill.style.animation = 'pb-fill-anim 2s linear infinite';\n",
       "            fill.style.backgroundSize = '100px 100%';\n",
       "            fill.style.backgroundImage = 'repeating-linear-gradient(' +\n",
       "                '90deg, #bdd2e6, #edf2f8 40%, #bdd2e6 80%, #bdd2e6)';\n",
       "        \n",
       "                  \n",
       "                fill.style.animation = 'none';\n",
       "                fill.style.backgroundImage = 'none';\n",
       "            \n",
       "              })();\n",
       "        </script>"
      ]
     },
     "metadata": {},
     "output_type": "display_data"
    },
    {
     "data": {
      "application/vdom.v1+json": {
       "attributes": {},
       "tagName": "div"
      },
      "text/html": [
       "\n",
       "                <script>\n",
       "                    if (Jupyter.version.split(\".\")[0] < 5) {\n",
       "                        var pb = document.getElementById(\"154c00a9-22b2-4ea2-b30f-bd5f9d799ae4\");\n",
       "                        var text = document.createTextNode(\n",
       "                            \"HMTL progress bar requires Jupyter Notebook >= \" +\n",
       "                            \"5.0 or Jupyter Lab. Alternatively, you can use \" +\n",
       "                            \"TerminalProgressBar().\");\n",
       "                        pb.parentNode.insertBefore(text, pb);\n",
       "                    }\n",
       "                </script>\n",
       "                <div id=\"154c00a9-22b2-4ea2-b30f-bd5f9d799ae4\" style=\"\n",
       "                    width: 100%;\n",
       "                    border: 1px solid #cfcfcf;\n",
       "                    border-radius: 4px;\n",
       "                    text-align: center;\n",
       "                    position: relative;\">\n",
       "                  <div class=\"pb-text\" style=\"\n",
       "                      position: absolute;\n",
       "                      width: 100%;\">\n",
       "                    0%\n",
       "                  </div>\n",
       "                  <div class=\"pb-fill\" style=\"\n",
       "                      background-color: #bdd2e6;\n",
       "                      width: 0%;\">\n",
       "                    <style type=\"text/css\" scoped=\"scoped\">\n",
       "                        @keyframes pb-fill-anim {\n",
       "                            0% { background-position: 0 0; }\n",
       "                            100% { background-position: 100px 0; }\n",
       "                        }\n",
       "                    </style>\n",
       "                    &nbsp;\n",
       "                  </div>\n",
       "                </div>"
      ],
      "text/plain": [
       "HtmlProgressBar cannot be displayed. Please use the TerminalProgressBar. It can be enabled with `nengo.rc['progress']['progress_bar'] = 'nengo.utils.progress.TerminalProgressBar'`."
      ]
     },
     "metadata": {},
     "output_type": "display_data"
    },
    {
     "data": {
      "application/vdom.v1+json": {
       "attributes": {
        "id": "ecee110d-0473-4cae-b1fe-60b8cd6bbc69",
        "style": {
         "border": "1px solid #cfcfcf",
         "borderRadius": "4px",
         "boxSizing": "border-box",
         "position": "relative",
         "textAlign": "center",
         "width": "100%"
        }
       },
       "children": [
        {
         "attributes": {
          "class": "pb-text",
          "style": {
           "position": "absolute",
           "width": "100%"
          }
         },
         "children": [
          "Simulation finished in 0:00:10."
         ],
         "tagName": "div"
        },
        {
         "attributes": {
          "class": "pb-fill",
          "style": {
           "animation": "none",
           "backgroundColor": "#bdd2e6",
           "backgroundImage": "none",
           "transition": "width 0.1s linear",
           "width": "100%"
          }
         },
         "children": [
          {
           "attributes": {
            "scoped": "scoped",
            "type": "text/css"
           },
           "children": [
            "\n                        @keyframes pb-fill-anim {\n                            0% { background-position: 0 0; }\n                            100% { background-position: 100px 0; }\n                        }}"
           ],
           "tagName": "style"
          },
          " "
         ],
         "tagName": "div"
        }
       ],
       "tagName": "div"
      },
      "text/html": [
       "<script>\n",
       "              (function () {\n",
       "                  var root = document.getElementById('154c00a9-22b2-4ea2-b30f-bd5f9d799ae4');\n",
       "                  var text = root.getElementsByClassName('pb-text')[0];\n",
       "                  var fill = root.getElementsByClassName('pb-fill')[0];\n",
       "\n",
       "                  text.innerHTML = 'Simulation finished in 0:00:10.';\n",
       "                  \n",
       "            if (100.0 > 0.) {\n",
       "                fill.style.transition = 'width 0.1s linear';\n",
       "            } else {\n",
       "                fill.style.transition = 'none';\n",
       "            }\n",
       "\n",
       "            fill.style.width = '100.0%';\n",
       "            fill.style.animation = 'none';\n",
       "            fill.style.backgroundImage = 'none'\n",
       "        \n",
       "                  \n",
       "                fill.style.animation = 'none';\n",
       "                fill.style.backgroundImage = 'none';\n",
       "            \n",
       "              })();\n",
       "        </script>"
      ]
     },
     "metadata": {},
     "output_type": "display_data"
    }
   ],
   "source": [
    "net = get_network(\"4x4\")\n",
    "sim = nengo.Simulator(net)\n",
    "sim.run(20)"
   ]
  },
  {
   "cell_type": "code",
   "execution_count": 3,
   "id": "b4494f83",
   "metadata": {
    "scrolled": true
   },
   "outputs": [
    {
     "data": {
      "text/plain": [
       "<matplotlib.legend.Legend at 0x2b6c99433ee0>"
      ]
     },
     "execution_count": 3,
     "metadata": {},
     "output_type": "execute_result"
    },
    {
     "data": {
      "image/png": "[encoded data removed]",
      "text/plain": [
       "<Figure size 432x288 with 1 Axes>"
      ]
     },
     "metadata": {
      "needs_background": "light"
     },
     "output_type": "display_data"
    }
   ],
   "source": [
    "plt.plot(sim.trange(), sim.data[net.probe_reward], label=\"Agent's Reward\")\n",
    "plt.plot(sim.trange(), sim.data[net.probe_value], label=\"Agent's State Value\")\n",
    "plt.xlabel(\"Time (in seconds)\")\n",
    "plt.ylabel(\"Reward and State Values\")\n",
    "plt.legend()"
   ]
  },
  {
   "cell_type": "code",
   "execution_count": 4,
   "id": "cf80afb9",
   "metadata": {},
   "outputs": [
    {
     "data": {
      "application/vdom.v1+json": {
       "attributes": {},
       "tagName": "div"
      },
      "text/html": [
       "\n",
       "                <script>\n",
       "                    if (Jupyter.version.split(\".\")[0] < 5) {\n",
       "                        var pb = document.getElementById(\"565a251f-efb7-47ca-8d3c-759df00c05d6\");\n",
       "                        var text = document.createTextNode(\n",
       "                            \"HMTL progress bar requires Jupyter Notebook >= \" +\n",
       "                            \"5.0 or Jupyter Lab. Alternatively, you can use \" +\n",
       "                            \"TerminalProgressBar().\");\n",
       "                        pb.parentNode.insertBefore(text, pb);\n",
       "                    }\n",
       "                </script>\n",
       "                <div id=\"565a251f-efb7-47ca-8d3c-759df00c05d6\" style=\"\n",
       "                    width: 100%;\n",
       "                    border: 1px solid #cfcfcf;\n",
       "                    border-radius: 4px;\n",
       "                    text-align: center;\n",
       "                    position: relative;\">\n",
       "                  <div class=\"pb-text\" style=\"\n",
       "                      position: absolute;\n",
       "                      width: 100%;\">\n",
       "                    0%\n",
       "                  </div>\n",
       "                  <div class=\"pb-fill\" style=\"\n",
       "                      background-color: #bdd2e6;\n",
       "                      width: 0%;\">\n",
       "                    <style type=\"text/css\" scoped=\"scoped\">\n",
       "                        @keyframes pb-fill-anim {\n",
       "                            0% { background-position: 0 0; }\n",
       "                            100% { background-position: 100px 0; }\n",
       "                        }\n",
       "                    </style>\n",
       "                    &nbsp;\n",
       "                  </div>\n",
       "                </div>"
      ],
      "text/plain": [
       "HtmlProgressBar cannot be displayed. Please use the TerminalProgressBar. It can be enabled with `nengo.rc['progress']['progress_bar'] = 'nengo.utils.progress.TerminalProgressBar'`."
      ]
     },
     "metadata": {},
     "output_type": "display_data"
    },
    {
     "data": {
      "application/vdom.v1+json": {
       "attributes": {
        "id": "5fba1df8-3dea-4f57-9ac8-9b75e82bc837",
        "style": {
         "border": "1px solid #cfcfcf",
         "borderRadius": "4px",
         "boxSizing": "border-box",
         "position": "relative",
         "textAlign": "center",
         "width": "100%"
        }
       },
       "children": [
        {
         "attributes": {
          "class": "pb-text",
          "style": {
           "position": "absolute",
           "width": "100%"
          }
         },
         "children": [
          "Simulation finished in 0:02:13."
         ],
         "tagName": "div"
        },
        {
         "attributes": {
          "class": "pb-fill",
          "style": {
           "animation": "none",
           "backgroundColor": "#bdd2e6",
           "backgroundImage": "none",
           "transition": "width 0.1s linear",
           "width": "100%"
          }
         },
         "children": [
          {
           "attributes": {
            "scoped": "scoped",
            "type": "text/css"
           },
           "children": [
            "\n                        @keyframes pb-fill-anim {\n                            0% { background-position: 0 0; }\n                            100% { background-position: 100px 0; }\n                        }}"
           ],
           "tagName": "style"
          },
          " "
         ],
         "tagName": "div"
        }
       ],
       "tagName": "div"
      },
      "text/html": [
       "<script>\n",
       "              (function () {\n",
       "                  var root = document.getElementById('565a251f-efb7-47ca-8d3c-759df00c05d6');\n",
       "                  var text = root.getElementsByClassName('pb-text')[0];\n",
       "                  var fill = root.getElementsByClassName('pb-fill')[0];\n",
       "\n",
       "                  text.innerHTML = 'Simulation finished in 0:02:13.';\n",
       "                  \n",
       "            if (100.0 > 0.) {\n",
       "                fill.style.transition = 'width 0.1s linear';\n",
       "            } else {\n",
       "                fill.style.transition = 'none';\n",
       "            }\n",
       "\n",
       "            fill.style.width = '100.0%';\n",
       "            fill.style.animation = 'none';\n",
       "            fill.style.backgroundImage = 'none'\n",
       "        \n",
       "                  \n",
       "                fill.style.animation = 'none';\n",
       "                fill.style.backgroundImage = 'none';\n",
       "            \n",
       "              })();\n",
       "        </script>"
      ]
     },
     "metadata": {},
     "output_type": "display_data"
    }
   ],
   "source": [
    "# Run the Actor-Critic model for next 300 secs.\n",
    "sim.run(280) # Execute for 300 seconds."
   ]
  },
  {
   "cell_type": "code",
   "execution_count": 5,
   "id": "36ee127b",
   "metadata": {},
   "outputs": [],
   "source": [
    "pickle.dump(sim.data[net.probe_done],\n",
    "              open(drc.RESULTS_DIR+\"/frozen_lake_task/task_done.p\", \"wb\"))\n",
    "pickle.dump(sim.data[net.probe_value],\n",
    "              open(drc.RESULTS_DIR+\"/frozen_lake_task/critic_values.p\", \"wb\"))\n",
    "pickle.dump(sim.data[net.probe_reward],\n",
    "              open(drc.RESULTS_DIR+\"/frozen_lake_task/actor_rewards.p\", \"wb\"))\n",
    "pickle.dump(sim.data[net.probe_choice],\n",
    "              open(drc.RESULTS_DIR+\"/frozen_lake_task/actor_act_choices.p\", \"wb\"))\n",
    "pickle.dump(sim.data[net.probe_raw_actions],\n",
    "              open(drc.RESULTS_DIR+\"/frozen_lake_task/actor_raw_actions.p\", \"wb\"))\n",
    "pickle.dump(sim.trange(),\n",
    "              open(drc.RESULTS_DIR+\"/frozen_lake_task/sim_trange.p\", \"wb\"))\n",
    "pickle.dump(sim.data[net.probe_state],\n",
    "            open(drc.RESULTS_DIR+\"/frozen_lake_task/env_states.p\", \"wb\"))"
   ]
  },
  {
   "cell_type": "code",
   "execution_count": 2,
   "id": "1f1e4daf",
   "metadata": {},
   "outputs": [],
   "source": [
    "actor_raw_actions = pickle.load(open(RES_DIR+\"run_3/actor_raw_actions.p\", \"rb\"))\n",
    "actor_action_choices = pickle.load(open(RES_DIR+\"run_3/actor_act_choices.p\", \"rb\"))\n",
    "critic_value = pickle.load(open(RES_DIR+\"run_3/critic_values.p\", \"rb\"))\n",
    "actor_rewards = pickle.load(open(RES_DIR+\"run_3/actor_rewards.p\", \"rb\"))\n",
    "sim_trange = pickle.load(open(RES_DIR+\"run_3/sim_trange.p\", \"rb\"))\n",
    "task_done = pickle.load(open(RES_DIR+\"run_3/task_done.p\", \"rb\"))\n",
    "env_states = pickle.load(open(RES_DIR+\"run_3/env_states.p\", \"rb\"))"
   ]
  },
  {
   "cell_type": "markdown",
   "id": "fbfcb61a",
   "metadata": {},
   "source": [
    "# Agent's Reward"
   ]
  },
  {
   "cell_type": "code",
   "execution_count": 3,
   "id": "ca6cd9e2",
   "metadata": {
    "scrolled": true
   },
   "outputs": [
    {
     "data": {
      "text/plain": [
       "Text(0, 0.5, 'Reward Values')"
      ]
     },
     "execution_count": 3,
     "metadata": {},
     "output_type": "execute_result"
    },
    {
     "data": {
      "image/png": "[encoded data removed]",
      "text/plain": [
       "<Figure size 1008x216 with 1 Axes>"
      ]
     },
     "metadata": {
      "needs_background": "light"
     },
     "output_type": "display_data"
    }
   ],
   "source": [
    "plt.figure(figsize=(14, 3))\n",
    "plt.plot(sim_trange, actor_rewards)\n",
    "plt.xlabel(\"Time (in seconds)\")\n",
    "plt.ylabel(\"Reward Values\")"
   ]
  },
  {
   "cell_type": "code",
   "execution_count": 4,
   "id": "212c124f",
   "metadata": {},
   "outputs": [
    {
     "data": {
      "text/plain": [
       "(array([[ 2.],\n",
       "        [ 3.],\n",
       "        [ 3.],\n",
       "        [ 7.],\n",
       "        [ 4.],\n",
       "        [ 8.],\n",
       "        [ 9.],\n",
       "        [10.],\n",
       "        [ 6.],\n",
       "        [ 5.]]),\n",
       " array([[-0.71893807,  0.11705883,  0.75799972, -0.15612047],\n",
       "        [-0.84865795,  0.17212009,  0.86579225, -0.18925439],\n",
       "        [-0.77920616,  0.13814664,  0.81224421, -0.17118469],\n",
       "        [-0.83220234,  0.16127959,  0.85631037, -0.18538762],\n",
       "        [-0.85911355,  0.15431691,  0.89291432, -0.18811768],\n",
       "        [-0.85557887,  0.17184062,  0.87564588, -0.19190763],\n",
       "        [-0.91318794,  0.16713559,  0.94663735, -0.20058499],\n",
       "        [-0.89879803,  0.17900103,  0.91955068, -0.19975368],\n",
       "        [-0.93898108,  0.1779644 ,  0.97144407, -0.2104274 ],\n",
       "        [-0.92825599,  0.18474583,  0.94888852, -0.20537836]]))"
      ]
     },
     "execution_count": 4,
     "metadata": {},
     "output_type": "execute_result"
    }
   ],
   "source": [
    "env_states[-10:], actor_raw_actions[-10:]"
   ]
  },
  {
   "cell_type": "code",
   "execution_count": 26,
   "id": "09bfc8cc",
   "metadata": {
    "scrolled": false
   },
   "outputs": [
    {
     "data": {
      "text/plain": [
       "[<matplotlib.lines.Line2D at 0x2b59adc6b880>]"
      ]
     },
     "execution_count": 26,
     "metadata": {},
     "output_type": "execute_result"
    },
    {
     "data": {
      "image/png": "[encoded data removed]",
      "text/plain": [
       "<Figure size 1008x216 with 1 Axes>"
      ]
     },
     "metadata": {
      "needs_background": "light"
     },
     "output_type": "display_data"
    }
   ],
   "source": [
    "plt.figure(figsize=(14, 3))\n",
    "plt.plot(sim_trange, task_done)"
   ]
  },
  {
   "cell_type": "markdown",
   "id": "7f3d9089",
   "metadata": {},
   "source": [
    "# Agent's Raw Actions"
   ]
  },
  {
   "cell_type": "code",
   "execution_count": 27,
   "id": "9750c88e",
   "metadata": {
    "scrolled": true
   },
   "outputs": [
    {
     "data": {
      "text/plain": [
       "array([[-0.75235403,  0.49614844,  1.16761154, -0.91140595],\n",
       "       [-0.80452841,  0.52198962,  1.26037159, -0.9778328 ],\n",
       "       [-0.7685201 ,  0.50182333,  1.19837488, -0.93167812],\n",
       "       [-0.79891716,  0.51970961,  1.24248554, -0.96327799],\n",
       "       [-0.79734378,  0.52330109,  1.23545315, -0.96141046],\n",
       "       [-0.68626064,  0.44134683,  1.08476599, -0.83985218],\n",
       "       [-0.84524879,  0.55662107,  1.30900272, -1.02037501],\n",
       "       [-0.69992678,  0.4583871 ,  1.09128913, -0.84974945],\n",
       "       [-0.78270458,  0.503217  ,  1.22594279, -0.9464552 ],\n",
       "       [-0.76613967,  0.50575623,  1.19023558, -0.92985214]])"
      ]
     },
     "execution_count": 27,
     "metadata": {},
     "output_type": "execute_result"
    }
   ],
   "source": [
    "actor_raw_actions[-10:]"
   ]
  },
  {
   "cell_type": "markdown",
   "id": "2e613b1f",
   "metadata": {},
   "source": [
    "# ###################################################"
   ]
  },
  {
   "cell_type": "code",
   "execution_count": 15,
   "id": "5e54f0e9",
   "metadata": {
    "scrolled": true
   },
   "outputs": [
    {
     "name": "stdout",
     "output_type": "stream",
     "text": [
      "[1.] [1.]\n",
      "[1.] [1.]\n",
      "[1.] [1.]\n",
      "[1.] [1.]\n",
      "[1.] [1.]\n",
      "[1.] [1.]\n",
      "[1.] [1.]\n",
      "[1.] [1.]\n",
      "[1.] [1.]\n",
      "[1.] [1.]\n",
      "[1.] [1.]\n",
      "[1.] [1.]\n",
      "[1.] [1.]\n",
      "[1.] [1.]\n",
      "[1.] [1.]\n",
      "[1.] [1.]\n",
      "[1.] [1.]\n",
      "[1.] [1.]\n",
      "[1.] [1.]\n",
      "[1.] [1.]\n",
      "[1.] [1.]\n",
      "[1.] [1.]\n",
      "[1.] [1.]\n",
      "[1.] [1.]\n",
      "[1.] [1.]\n",
      "[1.] [1.]\n",
      "[1.] [1.]\n",
      "[1.] [1.]\n",
      "[1.] [1.]\n",
      "[1.] [1.]\n",
      "[1.] [1.]\n",
      "[1.] [1.]\n",
      "[1.] [1.]\n",
      "[1.] [1.]\n",
      "[1.] [1.]\n",
      "[1.] [1.]\n",
      "[1.] [1.]\n",
      "[1.] [1.]\n",
      "[1.] [1.]\n",
      "[1.] [1.]\n",
      "[1.] [1.]\n",
      "[1.] [1.]\n",
      "[1.] [1.]\n",
      "[1.] [1.]\n",
      "[1.] [1.]\n",
      "[1.] [1.]\n",
      "[1.] [1.]\n",
      "[1.] [1.]\n",
      "[1.] [1.]\n",
      "[1.] [1.]\n",
      "[1.] [1.]\n",
      "[1.] [1.]\n",
      "[1.] [1.]\n",
      "[1.] [1.]\n",
      "[1.] [1.]\n",
      "[1.] [1.]\n",
      "[1.] [1.]\n",
      "[1.] [1.]\n",
      "[1.] [1.]\n",
      "[1.] [1.]\n",
      "[1.] [1.]\n",
      "[1.] [1.]\n",
      "[1.] [1.]\n",
      "[1.] [1.]\n",
      "[1.] [1.]\n",
      "[1.] [1.]\n",
      "[1.] [1.]\n",
      "[1.] [1.]\n",
      "[1.] [1.]\n",
      "[1.] [1.]\n",
      "[1.] [1.]\n",
      "[1.] [1.]\n",
      "[1.] [1.]\n",
      "[1.] [1.]\n",
      "[1.] [1.]\n",
      "[1.] [1.]\n",
      "[1.] [1.]\n",
      "[1.] [1.]\n",
      "[1.] [1.]\n",
      "[1.] [1.]\n",
      "[1.] [1.]\n",
      "[1.] [1.]\n",
      "[1.] [1.]\n",
      "[1.] [1.]\n",
      "[1.] [1.]\n",
      "[1.] [1.]\n",
      "[1.] [1.]\n",
      "[1.] [1.]\n",
      "[1.] [1.]\n",
      "[1.] [1.]\n",
      "[1.] [1.]\n",
      "[1.] [1.]\n",
      "[1.] [1.]\n",
      "[1.] [1.]\n",
      "[1.] [1.]\n",
      "[1.] [1.]\n",
      "[1.] [1.]\n",
      "[1.] [1.]\n",
      "[1.] [1.]\n",
      "[1.] [1.]\n",
      "[1.] [1.]\n",
      "[1.] [1.]\n",
      "[1.] [1.]\n",
      "[1.] [1.]\n",
      "[1.] [1.]\n",
      "[1.] [1.]\n",
      "[1.] [1.]\n",
      "[1.] [1.]\n",
      "[1.] [1.]\n",
      "[1.] [1.]\n",
      "[1.] [1.]\n",
      "[1.] [1.]\n",
      "[1.] [1.]\n",
      "[1.] [1.]\n",
      "[1.] [1.]\n",
      "[1.] [1.]\n",
      "[1.] [1.]\n",
      "[1.] [1.]\n",
      "[1.] [1.]\n",
      "[1.] [1.]\n",
      "[1.] [1.]\n",
      "[1.] [1.]\n",
      "[1.] [1.]\n",
      "[1.] [1.]\n",
      "[1.] [1.]\n",
      "[1.] [1.]\n",
      "[1.] [1.]\n",
      "[1.] [1.]\n",
      "[1.] [1.]\n",
      "[1.] [1.]\n",
      "[1.] [1.]\n",
      "[1.] [1.]\n",
      "[1.] [1.]\n",
      "[1.] [1.]\n",
      "[1.] [1.]\n",
      "[1.] [1.]\n",
      "[1.] [1.]\n",
      "[1.] [1.]\n",
      "[1.] [1.]\n",
      "[1.] [1.]\n",
      "[1.] [1.]\n",
      "[1.] [1.]\n",
      "[1.] [1.]\n",
      "[1.] [1.]\n",
      "[1.] [1.]\n",
      "[1.] [1.]\n",
      "[1.] [1.]\n",
      "[1.] [1.]\n",
      "[1.] [1.]\n",
      "[1.] [1.]\n",
      "[1.] [1.]\n",
      "[1.] [1.]\n",
      "[1.] [1.]\n",
      "[1.] [1.]\n",
      "[1.] [1.]\n",
      "[1.] [1.]\n",
      "[1.] [1.]\n",
      "[1.] [1.]\n",
      "[1.] [1.]\n",
      "[1.] [1.]\n",
      "[1.] [1.]\n",
      "[1.] [1.]\n",
      "[1.] [1.]\n",
      "[1.] [1.]\n",
      "[1.] [1.]\n",
      "[1.] [1.]\n",
      "[1.] [1.]\n",
      "[1.] [1.]\n",
      "[1.] [1.]\n",
      "[1.] [1.]\n",
      "[1.] [1.]\n",
      "[1.] [1.]\n",
      "[1.] [1.]\n",
      "[1.] [1.]\n",
      "[1.] [1.]\n",
      "[1.] [1.]\n",
      "[1.] [1.]\n",
      "[1.] [1.]\n",
      "[1.] [1.]\n",
      "[1.] [1.]\n",
      "[1.] [1.]\n",
      "[1.] [1.]\n",
      "[1.] [1.]\n",
      "[1.] [1.]\n",
      "[1.] [1.]\n",
      "[1.] [1.]\n",
      "[1.] [1.]\n",
      "[1.] [1.]\n",
      "[1.] [1.]\n",
      "[1.] [1.]\n",
      "[1.] [1.]\n",
      "[1.] [1.]\n",
      "[1.] [1.]\n",
      "[1.] [1.]\n",
      "[1.] [1.]\n",
      "[1.] [1.]\n",
      "[1.] [1.]\n",
      "[1.] [1.]\n",
      "[1.] [1.]\n",
      "[1.] [1.]\n",
      "[1.] [1.]\n",
      "[1.] [1.]\n",
      "[1.] [1.]\n",
      "[1.] [1.]\n",
      "[1.] [1.]\n",
      "[1.] [1.]\n",
      "[1.] [1.]\n",
      "[1.] [1.]\n",
      "[1.] [1.]\n",
      "[1.] [1.]\n",
      "[1.] [1.]\n",
      "[1.] [1.]\n",
      "[1.] [1.]\n",
      "[1.] [1.]\n",
      "[1.] [1.]\n",
      "[1.] [1.]\n",
      "[1.] [1.]\n",
      "[1.] [1.]\n",
      "[1.] [1.]\n",
      "[1.] [1.]\n",
      "[1.] [1.]\n",
      "[1.] [1.]\n",
      "[1.] [1.]\n",
      "[1.] [1.]\n",
      "[1.] [1.]\n",
      "[1.] [1.]\n",
      "[1.] [1.]\n",
      "[1.] [1.]\n",
      "[1.] [1.]\n",
      "[1.] [1.]\n",
      "[1.] [1.]\n",
      "[1.] [1.]\n",
      "[1.] [1.]\n",
      "[1.] [1.]\n",
      "[1.] [1.]\n",
      "[1.] [1.]\n",
      "[1.] [1.]\n",
      "[1.] [1.]\n",
      "[1.] [1.]\n",
      "[1.] [1.]\n",
      "[1.] [1.]\n",
      "[1.] [1.]\n",
      "[1.] [1.]\n",
      "[1.] [1.]\n",
      "[1.] [1.]\n",
      "[1.] [1.]\n",
      "[1.] [1.]\n",
      "[1.] [1.]\n",
      "[1.] [1.]\n",
      "[1.] [1.]\n",
      "[1.] [1.]\n",
      "[1.] [1.]\n",
      "[1.] [1.]\n",
      "[1.] [1.]\n",
      "[1.] [1.]\n",
      "[1.] [1.]\n",
      "[1.] [1.]\n",
      "[1.] [1.]\n",
      "[1.] [1.]\n",
      "[1.] [1.]\n",
      "[1.] [1.]\n",
      "[1.] [1.]\n",
      "[1.] [1.]\n",
      "[1.] [1.]\n",
      "[1.] [1.]\n",
      "[1.] [1.]\n",
      "[1.] [1.]\n",
      "[1.] [1.]\n",
      "[1.] [1.]\n",
      "[1.] [1.]\n",
      "[1.] [1.]\n",
      "[1.] [1.]\n",
      "[1.] [1.]\n",
      "[1.] [1.]\n",
      "[1.] [1.]\n",
      "[1.] [1.]\n",
      "[1.] [1.]\n",
      "[1.] [1.]\n",
      "[1.] [1.]\n",
      "[1.] [1.]\n",
      "[1.] [1.]\n",
      "[1.] [1.]\n",
      "[1.] [1.]\n",
      "[1.] [1.]\n",
      "[1.] [1.]\n",
      "[1.] [1.]\n",
      "[1.] [1.]\n",
      "[1.] [1.]\n",
      "[1.] [1.]\n",
      "[1.] [1.]\n",
      "[1.] [1.]\n",
      "[1.] [1.]\n",
      "[1.] [1.]\n",
      "[1.] [1.]\n",
      "[1.] [1.]\n",
      "[1.] [1.]\n",
      "[1.] [1.]\n",
      "[1.] [1.]\n",
      "[1.] [1.]\n",
      "[1.] [1.]\n",
      "[1.] [1.]\n",
      "[1.] [1.]\n",
      "[1.] [1.]\n",
      "[1.] [1.]\n",
      "[1.] [1.]\n",
      "[1.] [1.]\n",
      "[1.] [1.]\n",
      "[1.] [1.]\n",
      "[1.] [1.]\n",
      "[1.] [1.]\n",
      "[1.] [1.]\n",
      "[1.] [1.]\n",
      "[1.] [1.]\n",
      "[1.] [1.]\n",
      "[1.] [1.]\n",
      "[1.] [1.]\n",
      "[1.] [1.]\n",
      "[1.] [1.]\n",
      "[1.] [1.]\n",
      "[1.] [1.]\n",
      "[1.] [1.]\n",
      "[1.] [1.]\n",
      "[1.] [1.]\n",
      "[1.] [1.]\n",
      "[1.] [1.]\n",
      "[1.] [1.]\n",
      "[1.] [1.]\n",
      "[1.] [1.]\n",
      "[1.] [1.]\n",
      "[1.] [1.]\n",
      "[1.] [1.]\n",
      "[1.] [1.]\n",
      "[1.] [1.]\n",
      "[1.] [1.]\n",
      "[1.] [1.]\n",
      "[1.] [1.]\n",
      "[1.] [1.]\n",
      "[1.] [1.]\n",
      "[1.] [1.]\n",
      "[1.] [1.]\n"
     ]
    }
   ],
   "source": [
    "for i in range(250000, 300000):\n",
    "  if actor_rewards[i]==1:\n",
    "    print(actor_rewards[i], task_done[i])"
   ]
  },
  {
   "cell_type": "code",
   "execution_count": 2,
   "id": "0dded938",
   "metadata": {},
   "outputs": [],
   "source": [
    "fl_utils = FrozenLakeUtils(\"4x4\")\n",
    "state_action_map = fl_utils.get_policy(1, 250)"
   ]
  },
  {
   "cell_type": "code",
   "execution_count": 3,
   "id": "767d1b16",
   "metadata": {},
   "outputs": [
    {
     "data": {
      "text/plain": [
       "array([-0.24951063,  0.07503003,  0.21874457, -0.04426397])"
      ]
     },
     "execution_count": 3,
     "metadata": {},
     "output_type": "execute_result"
    }
   ],
   "source": [
    "np.mean(state_action_map[0], axis=0)"
   ]
  },
  {
   "cell_type": "code",
   "execution_count": 4,
   "id": "30d2b1fb",
   "metadata": {},
   "outputs": [
    {
     "data": {
      "text/plain": [
       "array([-0.60834464,  0.24328592,  0.59246758, -0.22740887])"
      ]
     },
     "execution_count": 4,
     "metadata": {},
     "output_type": "execute_result"
    }
   ],
   "source": [
    "state_action_map = fl_utils.get_policy(1, 250, cherry_pick_wins=True)\n",
    "\n",
    "np.mean(state_action_map[0], axis=0)"
   ]
  },
  {
   "cell_type": "code",
   "execution_count": 7,
   "id": "d21ba694",
   "metadata": {},
   "outputs": [
    {
     "name": "stdout",
     "output_type": "stream",
     "text": [
      "15.0 [-0.77228409  0.31881228  0.74657085 -0.29309904]\n",
      "14.0 [-0.75465656  0.3096995   0.72467257 -0.27971551]\n",
      "10.0 [-0.70784503  0.29046058  0.6823316  -0.26494715]\n",
      "6.0 [-0.64763526  0.26756898  0.61388516 -0.23381888]\n",
      "2.0 [-0.57586616  0.23042181  0.5488874  -0.20344305]\n",
      "1.0 [-0.60049202  0.23973254  0.57589998 -0.2151405 ]\n",
      "9.0 [-0.70520144  0.29851484  0.67382802 -0.26714142]\n",
      "8.0 [-0.69890004  0.29026617  0.67639674 -0.26776287]\n",
      "4.0 [-0.63896571  0.25696844  0.61912625 -0.23712898]\n",
      "0.0 [-0.60834464  0.24328592  0.59246758 -0.22740887]\n",
      "13.0 [-0.74216571  0.31116409  0.70051987 -0.26951825]\n",
      "3.0 [-0.62987166  0.27901792  0.63048512 -0.27963138]\n"
     ]
    }
   ],
   "source": [
    "for key in state_action_map:\n",
    "  print(key, np.mean(state_action_map[key], axis=0))"
   ]
  },
  {
   "cell_type": "markdown",
   "id": "c173f8d0",
   "metadata": {},
   "source": [
    "# ###################################################"
   ]
  },
  {
   "cell_type": "code",
   "execution_count": 53,
   "id": "e71cd2a3",
   "metadata": {},
   "outputs": [],
   "source": [
    "import gym\n",
    "env = gym.make(\"FrozenLake-v1\", is_slippery=False)"
   ]
  },
  {
   "cell_type": "code",
   "execution_count": 54,
   "id": "aa1cf98e",
   "metadata": {},
   "outputs": [],
   "source": [
    "a = env.reset()"
   ]
  }
 ],
 "metadata": {
  "kernelspec": {
   "display_name": "Python 3 (ipykernel)",
   "language": "python",
   "name": "python3"
  },
  "language_info": {
   "codemirror_mode": {
    "name": "ipython",
    "version": 3
   },
   "file_extension": ".py",
   "mimetype": "text/x-python",
   "name": "python",
   "nbconvert_exporter": "python",
   "pygments_lexer": "ipython3",
   "version": "3.8.10"
  }
 },
 "nbformat": 4,
 "nbformat_minor": 5
}
