{
 "cells": [
  {
   "cell_type": "code",
   "execution_count": 2,
   "id": "a4b408fa",
   "metadata": {},
   "outputs": [],
   "source": [
    "import nengo\n",
    "import numpy as np\n",
    "import matplotlib.pyplot as plt"
   ]
  },
  {
   "cell_type": "code",
   "execution_count": 1,
   "id": "25c0d848",
   "metadata": {},
   "outputs": [],
   "source": [
    "class Environment:\n",
    "    def __init__(self):\n",
    "        self.theta = 0\n",
    "        \n",
    "    def update(self, x):\n",
    "        if x[0] > 0:\n",
    "            self.theta += 0.01\n",
    "        if x[1] > 0:\n",
    "            self.theta -= 0.01\n",
    "        reward = 1 if np.cos(self.theta)>0.95 else 0\n",
    "        return np.sin(self.theta), np.cos(self.theta), reward"
   ]
  },
  {
   "cell_type": "code",
   "execution_count": 6,
   "id": "0f87be54",
   "metadata": {},
   "outputs": [],
   "source": [
    "tau_slow = 0.01\n",
    "tau_fast = None\n",
    "discount = 0.95\n",
    "\n",
    "environment = Environment()\n",
    "model = nengo.Network()\n",
    "with model:\n",
    "    \n",
    "    # create the environment\n",
    "    #   it has 3 outputs: the first 2 are the state, and the last is the reward\n",
    "    env = nengo.Node(lambda t, x: environment.update(x), size_in=2, size_out=3)\n",
    "    \n",
    "    # set up some other Nodes that just grab the state and reward information,\n",
    "    #  just for clarity\n",
    "    state = nengo.Node(None, size_in=2)\n",
    "    nengo.Connection(env[:2], state, synapse=None)\n",
    "    reward = nengo.Node(None, size_in=1)\n",
    "    nengo.Connection(env[2], reward, synapse=None)\n",
    "    \n",
    "    # create the neural network to encode the state.  The default is LIF neurons.\n",
    "    ens = nengo.Ensemble(n_neurons=200, dimensions=2)\n",
    "    nengo.Connection(state, ens, synapse=None)\n",
    "    \n",
    "    # this is the output value that we critic will learn\n",
    "    value = nengo.Node(None, size_in=1)\n",
    "\n",
    "    # record the value and the reward\n",
    "    p_value = nengo.Probe(value)\n",
    "    p_reward = nengo.Probe(reward)\n",
    "    \n",
    "    # compute the critic error\n",
    "    value_error = nengo.Node(None, size_in=1)\n",
    "    nengo.Connection(value, value_error, transform=-discount, synapse=tau_fast)\n",
    "    nengo.Connection(value, value_error, synapse=tau_slow)\n",
    "    nengo.Connection(reward, value_error, transform=-1, synapse=tau_slow)\n",
    "    \n",
    "    # make the connection to learn on\n",
    "    c = nengo.Connection(ens.neurons, value, transform=np.zeros((1, ens.n_neurons)), \n",
    "                         learning_rule_type=nengo.PES(learning_rate=1e-4, pre_synapse=tau_slow))\n",
    "    # connect the error signal to the learning rule\n",
    "    nengo.Connection(value_error, c.learning_rule, synapse=None)\n",
    "\n",
    "    ### HERE IS THE NEW STUFF FOR THE ACTOR\n",
    "    \n",
    "    # the raw output from the network\n",
    "    raw_actions = nengo.Node(None, size_in=2, label='raw_actions')\n",
    "    \n",
    "    # compute the softmax\n",
    "    def softmax(t, x):\n",
    "        return np.exp(x)/np.sum(np.exp(x))\n",
    "    actions = nengo.Node(softmax, size_in=2, label='actions')\n",
    "    nengo.Connection(raw_actions, actions, synapse=None)\n",
    "\n",
    "    # do the random sampling and output which action we're taking\n",
    "    #  (here I just decided to represent choosing the action as +1 and not choosing as -1)\n",
    "    def choice_func(t, x):\n",
    "        c = np.random.choice(np.arange(2), p=x)\n",
    "        result = [-1, -1]\n",
    "        result[c] = 1\n",
    "        return result\n",
    "    choice = nengo.Node(choice_func, size_in=2, size_out=2, label='choice')\n",
    "    nengo.Connection(actions, choice, synapse=None)\n",
    "    \n",
    "    # and now connect the choice to the environment\n",
    "    nengo.Connection(choice, env, synapse=None)\n",
    "    \n",
    "    # and here is the computation of the error signal\n",
    "    c_actor = nengo.Connection(ens.neurons, raw_actions, transform=np.zeros((2, ens.n_neurons)), \n",
    "                               learning_rule_type=nengo.PES(learning_rate=1e-4, pre_synapse=tau_slow))\n",
    "\n",
    "    # implement the advantage actor-critic error rule\n",
    "    #  the Node gets 5 inputs: the delta for the critic part, 2 values indicating which action was chosen\n",
    "    #  (+1 for the chosen and -1 for the non-chosen ones), and the choice probabilities for the 2 actions\n",
    "    def actor_error_func(t, x):\n",
    "        delta = x[0]\n",
    "        chosen = x[1:3]\n",
    "        prob = x[3:5]\n",
    "        # compute the error\n",
    "        e = np.where(chosen>0, delta*(1-prob), -delta*prob)\n",
    "        return e\n",
    "\n",
    "    actor_error = nengo.Node(actor_error_func, size_in=5, label='actor_error')\n",
    "    nengo.Connection(value_error, actor_error[0], synapse=None)\n",
    "    nengo.Connection(choice, actor_error[1:3], synapse=None)\n",
    "    nengo.Connection(actions, actor_error[3:5], synapse=None)\n",
    "    nengo.Connection(actor_error, c_actor.learning_rule, transform=-1, synapse=tau_slow) \n",
    "    \n",
    "    p_choice = nengo.Probe(choice)   # record the actual choices\n",
    "    p_prob = nengo.Probe(actions)    # record the probabilities "
   ]
  },
  {
   "cell_type": "code",
   "execution_count": 11,
   "id": "f1cd717e",
   "metadata": {},
   "outputs": [
    {
     "data": {
      "application/vdom.v1+json": {
       "attributes": {},
       "tagName": "div"
      },
      "text/html": [
       "\n",
       "                <script>\n",
       "                    if (Jupyter.version.split(\".\")[0] < 5) {\n",
       "                        var pb = document.getElementById(\"59ea0303-9e13-4cd4-b8a5-78b25fbd0721\");\n",
       "                        var text = document.createTextNode(\n",
       "                            \"HMTL progress bar requires Jupyter Notebook >= \" +\n",
       "                            \"5.0 or Jupyter Lab. Alternatively, you can use \" +\n",
       "                            \"TerminalProgressBar().\");\n",
       "                        pb.parentNode.insertBefore(text, pb);\n",
       "                    }\n",
       "                </script>\n",
       "                <div id=\"59ea0303-9e13-4cd4-b8a5-78b25fbd0721\" style=\"\n",
       "                    width: 100%;\n",
       "                    border: 1px solid #cfcfcf;\n",
       "                    border-radius: 4px;\n",
       "                    text-align: center;\n",
       "                    position: relative;\">\n",
       "                  <div class=\"pb-text\" style=\"\n",
       "                      position: absolute;\n",
       "                      width: 100%;\">\n",
       "                    0%\n",
       "                  </div>\n",
       "                  <div class=\"pb-fill\" style=\"\n",
       "                      background-color: #bdd2e6;\n",
       "                      width: 0%;\">\n",
       "                    <style type=\"text/css\" scoped=\"scoped\">\n",
       "                        @keyframes pb-fill-anim {\n",
       "                            0% { background-position: 0 0; }\n",
       "                            100% { background-position: 100px 0; }\n",
       "                        }\n",
       "                    </style>\n",
       "                    &nbsp;\n",
       "                  </div>\n",
       "                </div>"
      ],
      "text/plain": [
       "HtmlProgressBar cannot be displayed. Please use the TerminalProgressBar. It can be enabled with `nengo.rc['progress']['progress_bar'] = 'nengo.utils.progress.TerminalProgressBar'`."
      ]
     },
     "metadata": {},
     "output_type": "display_data"
    },
    {
     "data": {
      "application/vdom.v1+json": {
       "attributes": {
        "id": "5c80a506-4823-474a-93fc-6a394aa485d9",
        "style": {
         "border": "1px solid #cfcfcf",
         "borderRadius": "4px",
         "boxSizing": "border-box",
         "position": "relative",
         "textAlign": "center",
         "width": "100%"
        }
       },
       "children": [
        {
         "attributes": {
          "class": "pb-text",
          "style": {
           "position": "absolute",
           "width": "100%"
          }
         },
         "children": [
          "Build finished in 0:00:01."
         ],
         "tagName": "div"
        },
        {
         "attributes": {
          "class": "pb-fill",
          "style": {
           "animation": "none",
           "backgroundColor": "#bdd2e6",
           "backgroundImage": "none",
           "backgroundSize": "100px 100%",
           "width": "100%"
          }
         },
         "children": [
          {
           "attributes": {
            "scoped": "scoped",
            "type": "text/css"
           },
           "children": [
            "\n                        @keyframes pb-fill-anim {\n                            0% { background-position: 0 0; }\n                            100% { background-position: 100px 0; }\n                        }}"
           ],
           "tagName": "style"
          },
          " "
         ],
         "tagName": "div"
        }
       ],
       "tagName": "div"
      },
      "text/html": [
       "<script>\n",
       "              (function () {\n",
       "                  var root = document.getElementById('59ea0303-9e13-4cd4-b8a5-78b25fbd0721');\n",
       "                  var text = root.getElementsByClassName('pb-text')[0];\n",
       "                  var fill = root.getElementsByClassName('pb-fill')[0];\n",
       "\n",
       "                  text.innerHTML = 'Build finished in 0:00:01.';\n",
       "                  \n",
       "            fill.style.width = '100%';\n",
       "            fill.style.animation = 'pb-fill-anim 2s linear infinite';\n",
       "            fill.style.backgroundSize = '100px 100%';\n",
       "            fill.style.backgroundImage = 'repeating-linear-gradient(' +\n",
       "                '90deg, #bdd2e6, #edf2f8 40%, #bdd2e6 80%, #bdd2e6)';\n",
       "        \n",
       "                  \n",
       "                fill.style.animation = 'none';\n",
       "                fill.style.backgroundImage = 'none';\n",
       "            \n",
       "              })();\n",
       "        </script>"
      ]
     },
     "metadata": {},
     "output_type": "display_data"
    },
    {
     "data": {
      "application/vdom.v1+json": {
       "attributes": {},
       "tagName": "div"
      },
      "text/html": [
       "\n",
       "                <script>\n",
       "                    if (Jupyter.version.split(\".\")[0] < 5) {\n",
       "                        var pb = document.getElementById(\"b97f9ea1-d426-47da-a194-7958b9f2e4a3\");\n",
       "                        var text = document.createTextNode(\n",
       "                            \"HMTL progress bar requires Jupyter Notebook >= \" +\n",
       "                            \"5.0 or Jupyter Lab. Alternatively, you can use \" +\n",
       "                            \"TerminalProgressBar().\");\n",
       "                        pb.parentNode.insertBefore(text, pb);\n",
       "                    }\n",
       "                </script>\n",
       "                <div id=\"b97f9ea1-d426-47da-a194-7958b9f2e4a3\" style=\"\n",
       "                    width: 100%;\n",
       "                    border: 1px solid #cfcfcf;\n",
       "                    border-radius: 4px;\n",
       "                    text-align: center;\n",
       "                    position: relative;\">\n",
       "                  <div class=\"pb-text\" style=\"\n",
       "                      position: absolute;\n",
       "                      width: 100%;\">\n",
       "                    0%\n",
       "                  </div>\n",
       "                  <div class=\"pb-fill\" style=\"\n",
       "                      background-color: #bdd2e6;\n",
       "                      width: 0%;\">\n",
       "                    <style type=\"text/css\" scoped=\"scoped\">\n",
       "                        @keyframes pb-fill-anim {\n",
       "                            0% { background-position: 0 0; }\n",
       "                            100% { background-position: 100px 0; }\n",
       "                        }\n",
       "                    </style>\n",
       "                    &nbsp;\n",
       "                  </div>\n",
       "                </div>"
      ],
      "text/plain": [
       "HtmlProgressBar cannot be displayed. Please use the TerminalProgressBar. It can be enabled with `nengo.rc['progress']['progress_bar'] = 'nengo.utils.progress.TerminalProgressBar'`."
      ]
     },
     "metadata": {},
     "output_type": "display_data"
    },
    {
     "data": {
      "application/vdom.v1+json": {
       "attributes": {
        "id": "71b7180a-4046-4903-a89c-3c3f44a85441",
        "style": {
         "border": "1px solid #cfcfcf",
         "borderRadius": "4px",
         "boxSizing": "border-box",
         "position": "relative",
         "textAlign": "center",
         "width": "100%"
        }
       },
       "children": [
        {
         "attributes": {
          "class": "pb-text",
          "style": {
           "position": "absolute",
           "width": "100%"
          }
         },
         "children": [
          "Simulation finished in 0:00:42."
         ],
         "tagName": "div"
        },
        {
         "attributes": {
          "class": "pb-fill",
          "style": {
           "animation": "none",
           "backgroundColor": "#bdd2e6",
           "backgroundImage": "none",
           "transition": "width 0.1s linear",
           "width": "100%"
          }
         },
         "children": [
          {
           "attributes": {
            "scoped": "scoped",
            "type": "text/css"
           },
           "children": [
            "\n                        @keyframes pb-fill-anim {\n                            0% { background-position: 0 0; }\n                            100% { background-position: 100px 0; }\n                        }}"
           ],
           "tagName": "style"
          },
          " "
         ],
         "tagName": "div"
        }
       ],
       "tagName": "div"
      },
      "text/html": [
       "<script>\n",
       "              (function () {\n",
       "                  var root = document.getElementById('b97f9ea1-d426-47da-a194-7958b9f2e4a3');\n",
       "                  var text = root.getElementsByClassName('pb-text')[0];\n",
       "                  var fill = root.getElementsByClassName('pb-fill')[0];\n",
       "\n",
       "                  text.innerHTML = 'Simulation finished in 0:00:42.';\n",
       "                  \n",
       "            if (100.0 > 0.) {\n",
       "                fill.style.transition = 'width 0.1s linear';\n",
       "            } else {\n",
       "                fill.style.transition = 'none';\n",
       "            }\n",
       "\n",
       "            fill.style.width = '100.0%';\n",
       "            fill.style.animation = 'none';\n",
       "            fill.style.backgroundImage = 'none'\n",
       "        \n",
       "                  \n",
       "                fill.style.animation = 'none';\n",
       "                fill.style.backgroundImage = 'none';\n",
       "            \n",
       "              })();\n",
       "        </script>"
      ]
     },
     "metadata": {},
     "output_type": "display_data"
    }
   ],
   "source": [
    "sim = nengo.Simulator(model)\n",
    "sim.run(100)"
   ]
  },
  {
   "cell_type": "code",
   "execution_count": 13,
   "id": "99fd52ef",
   "metadata": {},
   "outputs": [
    {
     "data": {
      "image/png": "[encoded data removed]",
      "text/plain": [
       "<Figure size 432x288 with 1 Axes>"
      ]
     },
     "metadata": {
      "needs_background": "light"
     },
     "output_type": "display_data"
    }
   ],
   "source": [
    "plt.plot(sim.trange(), sim.data[p_value], label='value')\n",
    "plt.plot(sim.trange(), sim.data[p_reward], label='reward')\n",
    "plt.legend()\n",
    "plt.show()"
   ]
  },
  {
   "cell_type": "code",
   "execution_count": 8,
   "id": "303ad050",
   "metadata": {},
   "outputs": [
    {
     "data": {
      "image/png": "[encoded data removed]",
      "text/plain": [
       "<Figure size 432x288 with 1 Axes>"
      ]
     },
     "metadata": {
      "needs_background": "light"
     },
     "output_type": "display_data"
    }
   ],
   "source": [
    "plt.plot(sim.trange(), sim.data[p_value], label='value')\n",
    "plt.plot(sim.trange(), sim.data[p_reward], label='reward')\n",
    "plt.legend()\n",
    "plt.show()"
   ]
  },
  {
   "cell_type": "code",
   "execution_count": 14,
   "id": "2d97573a",
   "metadata": {},
   "outputs": [
    {
     "data": {
      "application/vdom.v1+json": {
       "attributes": {},
       "tagName": "div"
      },
      "text/html": [
       "\n",
       "                <script>\n",
       "                    if (Jupyter.version.split(\".\")[0] < 5) {\n",
       "                        var pb = document.getElementById(\"75c713bb-a006-4043-a381-4b74379f22eb\");\n",
       "                        var text = document.createTextNode(\n",
       "                            \"HMTL progress bar requires Jupyter Notebook >= \" +\n",
       "                            \"5.0 or Jupyter Lab. Alternatively, you can use \" +\n",
       "                            \"TerminalProgressBar().\");\n",
       "                        pb.parentNode.insertBefore(text, pb);\n",
       "                    }\n",
       "                </script>\n",
       "                <div id=\"75c713bb-a006-4043-a381-4b74379f22eb\" style=\"\n",
       "                    width: 100%;\n",
       "                    border: 1px solid #cfcfcf;\n",
       "                    border-radius: 4px;\n",
       "                    text-align: center;\n",
       "                    position: relative;\">\n",
       "                  <div class=\"pb-text\" style=\"\n",
       "                      position: absolute;\n",
       "                      width: 100%;\">\n",
       "                    0%\n",
       "                  </div>\n",
       "                  <div class=\"pb-fill\" style=\"\n",
       "                      background-color: #bdd2e6;\n",
       "                      width: 0%;\">\n",
       "                    <style type=\"text/css\" scoped=\"scoped\">\n",
       "                        @keyframes pb-fill-anim {\n",
       "                            0% { background-position: 0 0; }\n",
       "                            100% { background-position: 100px 0; }\n",
       "                        }\n",
       "                    </style>\n",
       "                    &nbsp;\n",
       "                  </div>\n",
       "                </div>"
      ],
      "text/plain": [
       "HtmlProgressBar cannot be displayed. Please use the TerminalProgressBar. It can be enabled with `nengo.rc['progress']['progress_bar'] = 'nengo.utils.progress.TerminalProgressBar'`."
      ]
     },
     "metadata": {},
     "output_type": "display_data"
    },
    {
     "data": {
      "application/vdom.v1+json": {
       "attributes": {
        "id": "80517745-fed2-4f4f-8351-4b0c41e3ec67",
        "style": {
         "border": "1px solid #cfcfcf",
         "borderRadius": "4px",
         "boxSizing": "border-box",
         "position": "relative",
         "textAlign": "center",
         "width": "100%"
        }
       },
       "children": [
        {
         "attributes": {
          "class": "pb-text",
          "style": {
           "position": "absolute",
           "width": "100%"
          }
         },
         "children": [
          "Simulation finished in 0:03:33."
         ],
         "tagName": "div"
        },
        {
         "attributes": {
          "class": "pb-fill",
          "style": {
           "animation": "none",
           "backgroundColor": "#bdd2e6",
           "backgroundImage": "none",
           "transition": "width 0.1s linear",
           "width": "100%"
          }
         },
         "children": [
          {
           "attributes": {
            "scoped": "scoped",
            "type": "text/css"
           },
           "children": [
            "\n                        @keyframes pb-fill-anim {\n                            0% { background-position: 0 0; }\n                            100% { background-position: 100px 0; }\n                        }}"
           ],
           "tagName": "style"
          },
          " "
         ],
         "tagName": "div"
        }
       ],
       "tagName": "div"
      },
      "text/html": [
       "<script>\n",
       "              (function () {\n",
       "                  var root = document.getElementById('75c713bb-a006-4043-a381-4b74379f22eb');\n",
       "                  var text = root.getElementsByClassName('pb-text')[0];\n",
       "                  var fill = root.getElementsByClassName('pb-fill')[0];\n",
       "\n",
       "                  text.innerHTML = 'Simulation finished in 0:03:33.';\n",
       "                  \n",
       "            if (100.0 > 0.) {\n",
       "                fill.style.transition = 'width 0.1s linear';\n",
       "            } else {\n",
       "                fill.style.transition = 'none';\n",
       "            }\n",
       "\n",
       "            fill.style.width = '100.0%';\n",
       "            fill.style.animation = 'none';\n",
       "            fill.style.backgroundImage = 'none'\n",
       "        \n",
       "                  \n",
       "                fill.style.animation = 'none';\n",
       "                fill.style.backgroundImage = 'none';\n",
       "            \n",
       "              })();\n",
       "        </script>"
      ]
     },
     "metadata": {},
     "output_type": "display_data"
    }
   ],
   "source": [
    "sim.run(500)"
   ]
  },
  {
   "cell_type": "code",
   "execution_count": 15,
   "id": "8c871833",
   "metadata": {},
   "outputs": [
    {
     "data": {
      "image/png": "[encoded data removed]",
      "text/plain": [
       "<Figure size 1008x360 with 1 Axes>"
      ]
     },
     "metadata": {
      "needs_background": "light"
     },
     "output_type": "display_data"
    }
   ],
   "source": [
    "plt.figure(figsize=(14,5))\n",
    "plt.plot(sim.trange(), sim.data[p_value], label='value')\n",
    "plt.plot(sim.trange(), sim.data[p_reward], label='reward')\n",
    "plt.legend()\n",
    "plt.show()"
   ]
  },
  {
   "cell_type": "code",
   "execution_count": null,
   "id": "127393c4",
   "metadata": {},
   "outputs": [],
   "source": []
  }
 ],
 "metadata": {
  "kernelspec": {
   "display_name": "Python 3 (ipykernel)",
   "language": "python",
   "name": "python3"
  },
  "language_info": {
   "codemirror_mode": {
    "name": "ipython",
    "version": 3
   },
   "file_extension": ".py",
   "mimetype": "text/x-python",
   "name": "python",
   "nbconvert_exporter": "python",
   "pygments_lexer": "ipython3",
   "version": "3.8.10"
  }
 },
 "nbformat": 4,
 "nbformat_minor": 5
}
